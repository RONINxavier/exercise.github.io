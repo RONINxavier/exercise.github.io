{
  "nbformat": 4,
  "nbformat_minor": 0,
  "metadata": {
    "colab": {
      "provenance": [],
      "authorship_tag": "ABX9TyM/v5NVBKOJEq88JdVojgiB",
      "include_colab_link": true
    },
    "kernelspec": {
      "name": "python3",
      "display_name": "Python 3"
    },
    "language_info": {
      "name": "python"
    }
  },
  "cells": [
    {
      "cell_type": "markdown",
      "metadata": {
        "id": "view-in-github",
        "colab_type": "text"
      },
      "source": [
        "<a href=\"https://colab.research.google.com/github/RONINxavier/exercise.github.io/blob/main/Tugas2.ipynb\" target=\"_parent\"><img src=\"https://colab.research.google.com/assets/colab-badge.svg\" alt=\"Open In Colab\"/></a>"
      ]
    },
    {
      "cell_type": "markdown",
      "source": [
        "Array kelas pertama"
      ],
      "metadata": {
        "id": "rrc5OSsEQDkI"
      }
    },
    {
      "cell_type": "code",
      "execution_count": 1,
      "metadata": {
        "colab": {
          "base_uri": "https://localhost:8080/"
        },
        "id": "bS1h0EAe4Ahu",
        "outputId": "5535134f-e91f-492d-d248-5e50e50b8d30"
      },
      "outputs": [
        {
          "output_type": "execute_result",
          "data": {
            "text/plain": [
              "array([ 97,  76,  66,  75,  85,  62,  89,  66,  65,  94,  63,  98,  89,\n",
              "        86, 100,  66,  90,  96,  83,  96])"
            ]
          },
          "metadata": {},
          "execution_count": 1
        }
      ],
      "source": [
        "import numpy as np\n",
        "np.random.randint(60, 101, 20)"
      ]
    },
    {
      "cell_type": "markdown",
      "source": [
        "Array kelas kedua"
      ],
      "metadata": {
        "id": "uDDlFFSBHVLI"
      }
    },
    {
      "cell_type": "code",
      "source": [
        "import numpy as np\n",
        "np.random.randint(60, 101, 20)"
      ],
      "metadata": {
        "colab": {
          "base_uri": "https://localhost:8080/"
        },
        "id": "D0ILZyi_4uLN",
        "outputId": "de25813b-dfd5-4450-c927-e280b9860b93"
      },
      "execution_count": 1,
      "outputs": [
        {
          "output_type": "execute_result",
          "data": {
            "text/plain": [
              "array([ 62,  78,  78,  68,  88,  99,  60,  92,  66,  90,  92,  75,  65,\n",
              "        78,  64, 100,  91, 100,  82,  87])"
            ]
          },
          "metadata": {},
          "execution_count": 1
        }
      ]
    },
    {
      "cell_type": "markdown",
      "source": [
        "Mean, Median, Modus kelas pertama"
      ],
      "metadata": {
        "id": "mYSGBGMzHsRf"
      }
    },
    {
      "cell_type": "code",
      "source": [
        "x = [97,  76,  66,  75,  85,  62,  89,  66,  65,  94,  63,  98,  89, 86, 100,  66,  90,  96,  83,  96]\n",
        "y = y = np.array(x)\n",
        "\n",
        "print(\"Mean is : \",y.mean())\n",
        "print(\"Median is : \",np.median(y))\n",
        "\n",
        "from statistics import mode\n",
        "print(\"Mode is:\",mode([97,  76,  66,  75,  85,  62,  89,  66,  65,  94,  63,  98,  89, 86, 100,  66,  90,  96,  83,  96]))"
      ],
      "metadata": {
        "colab": {
          "base_uri": "https://localhost:8080/"
        },
        "id": "FJWG6SVNH0sb",
        "outputId": "93312699-237e-4c36-8b00-5bc01f00c551"
      },
      "execution_count": 2,
      "outputs": [
        {
          "output_type": "stream",
          "name": "stdout",
          "text": [
            "Mean is :  82.1\n",
            "Median is :  85.5\n",
            "Mode is: 66\n"
          ]
        }
      ]
    },
    {
      "cell_type": "markdown",
      "source": [
        "Mean, Median, Modus kelas kedua"
      ],
      "metadata": {
        "id": "qpLTnUmcIg6S"
      }
    },
    {
      "cell_type": "code",
      "source": [
        "x = [62,  78,  78,  68,  88,  99,  60,  92,  66,  90,  92,  75,  65, 78,  64, 100,  91, 100,  82,  87]\n",
        "y = y = np.array(x)\n",
        "\n",
        "print(\"Mean is : \",y.mean())\n",
        "print(\"Median is : \",np.median(y))\n",
        "\n",
        "from statistics import mode\n",
        "print(\"Mode is:\",mode([62,  78,  78,  68,  88,  99,  60,  92,  66,  90,  92,  75,  65, 78,  64, 100,  91, 100,  82,  87]))"
      ],
      "metadata": {
        "colab": {
          "base_uri": "https://localhost:8080/"
        },
        "id": "Yaz6xtuyImBA",
        "outputId": "9a8b5261-49ae-42d3-d22f-135a46600f1e"
      },
      "execution_count": 3,
      "outputs": [
        {
          "output_type": "stream",
          "name": "stdout",
          "text": [
            "Mean is :  80.75\n",
            "Median is :  80.0\n",
            "Mode is: 78\n"
          ]
        }
      ]
    },
    {
      "cell_type": "code",
      "source": [
        "Hypothesis testing"
      ],
      "metadata": {
        "id": "z4pT0-7WI7hE"
      },
      "execution_count": null,
      "outputs": []
    },
    {
      "cell_type": "code",
      "source": [
        "import numpy as np\n",
        "from scipy import stats\n",
        "\n",
        "# Sample data for two groups\n",
        "kelas1 = np.array([97,  76,  66,  75,  85,  62,  89,  66,  65,  94,  63,  98,  89, 86, 100,  66,  90,  96,  83,  96])\n",
        "kelas2 = np.array([62,  78,  78,  68,  88,  99,  60,  92,  66,  90,  92,  75,  65, 78,  64, 100,  91, 100,  82,  87])\n",
        "\n",
        "# Define the null hypothesis and alternative hypothesis\n",
        "# Null hypothesis: the means of the two groups are equal\n",
        "# Alternative hypothesis: the means of the two groups are not equal\n",
        "null_hypothesis = \"nilai rata-rata ujian kedua kelas UNHAN sama.\"\n",
        "alternative_hypothesis = \"nilai rata-rata ujian kedua kelas UNHAN tidak sama.\"\n",
        "\n",
        "# Set the significance level (alpha value)\n",
        "alpha = 0.05\n",
        "\n",
        "# Perform the z-test\n",
        "z_stat, p_value = stats.ttest_ind(kelas1, kelas2)\n",
        "\n",
        "# Check if the p-value is less than the significance level\n",
        "if p_value < alpha:\n",
        "    conclusion = \"Tolak H0.\"\n",
        "else:\n",
        "    conclusion = \"Terima H0.\"\n",
        "\n",
        "# Print the results\n",
        "print(\"H0 : \", null_hypothesis)\n",
        "print(\"H1 : \", alternative_hypothesis)\n",
        "print(\"α : \", alpha)\n",
        "print(\"Z-statistic:\", z_stat)\n",
        "print(\"P-value:\", p_value)\n",
        "print(\"Kesimpulan : \", conclusion)"
      ],
      "metadata": {
        "colab": {
          "base_uri": "https://localhost:8080/"
        },
        "id": "0gCEH1Z8Mc2x",
        "outputId": "4864413f-4c57-463a-eb95-d8dfee6e0464"
      },
      "execution_count": 6,
      "outputs": [
        {
          "output_type": "stream",
          "name": "stdout",
          "text": [
            "H0 :  nilai rata-rata ujian kedua kelas UNHAN sama.\n",
            "H1 :  nilai rata-rata ujian kedua kelas UNHAN tidak sama.\n",
            "α :  0.05\n",
            "Z-statistic: 0.31937805471594527\n",
            "P-value: 0.7511890594486429\n",
            "Kesimpulan :  Terima H0.\n"
          ]
        }
      ]
    }
  ]
}