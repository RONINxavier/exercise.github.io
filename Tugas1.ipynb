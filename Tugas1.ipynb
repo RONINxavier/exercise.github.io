{
  "nbformat": 4,
  "nbformat_minor": 0,
  "metadata": {
    "colab": {
      "provenance": [],
      "authorship_tag": "ABX9TyPBvChzoFQtuMQNDnKSkJV9",
      "include_colab_link": true
    },
    "kernelspec": {
      "name": "python3",
      "display_name": "Python 3"
    },
    "language_info": {
      "name": "python"
    }
  },
  "cells": [
    {
      "cell_type": "markdown",
      "metadata": {
        "id": "view-in-github",
        "colab_type": "text"
      },
      "source": [
        "<a href=\"https://colab.research.google.com/github/RONINxavier/exercise.github.io/blob/main/Tugas1.ipynb\" target=\"_parent\"><img src=\"https://colab.research.google.com/assets/colab-badge.svg\" alt=\"Open In Colab\"/></a>"
      ]
    },
    {
      "cell_type": "code",
      "execution_count": null,
      "metadata": {
        "colab": {
          "base_uri": "https://localhost:8080/"
        },
        "id": "_E3edMON0y-5",
        "outputId": "f0341e05-7360-49af-a6fd-f512a20a1b9c"
      },
      "outputs": [
        {
          "output_type": "execute_result",
          "data": {
            "text/plain": [
              "array([6, 5, 2, 6, 5, 3, 4, 4, 1, 3, 6, 6, 6, 6, 2, 1, 2, 3, 4, 4])"
            ]
          },
          "metadata": {},
          "execution_count": 7
        }
      ],
      "source": [
        "import numpy as np\n",
        "np.random.randint(1, 7, 20)"
      ]
    },
    {
      "cell_type": "code",
      "source": [
        "x = [6, 5, 2, 6, 5, 3, 4, 4, 1, 3, 6, 6, 6, 6, 2, 1, 2, 3, 4, 4]\n",
        "y = np.array(x)"
      ],
      "metadata": {
        "id": "eKY15P9f10Do"
      },
      "execution_count": null,
      "outputs": []
    },
    {
      "cell_type": "code",
      "source": [
        "print(\"Mean is : \",y.mean())"
      ],
      "metadata": {
        "colab": {
          "base_uri": "https://localhost:8080/"
        },
        "id": "kigFjAgi1Mol",
        "outputId": "68352952-f089-4a33-97fa-395803c3b28e"
      },
      "execution_count": null,
      "outputs": [
        {
          "output_type": "stream",
          "name": "stdout",
          "text": [
            "Mean is :  3.95\n"
          ]
        }
      ]
    },
    {
      "cell_type": "code",
      "source": [
        "print(\"Median is : \",np.median(y))\n"
      ],
      "metadata": {
        "colab": {
          "base_uri": "https://localhost:8080/"
        },
        "id": "jLXyHWJ02D1-",
        "outputId": "55c08105-f7b2-4dd5-dd3b-8be9b5bf18a2"
      },
      "execution_count": null,
      "outputs": [
        {
          "output_type": "stream",
          "name": "stdout",
          "text": [
            "Median is :  4.0\n"
          ]
        }
      ]
    },
    {
      "cell_type": "code",
      "source": [
        "from statistics import mode\n",
        "print(\"Mode is:\",mode([6, 5, 2, 6, 5, 3, 4, 4, 1, 3, 6, 6, 6, 6, 2, 1, 2, 3, 4, 4]))"
      ],
      "metadata": {
        "colab": {
          "base_uri": "https://localhost:8080/"
        },
        "id": "NzOt4Y7r2JmY",
        "outputId": "cdfc4f20-a7d3-47fb-e7ee-5a7ac4c7161c"
      },
      "execution_count": null,
      "outputs": [
        {
          "output_type": "stream",
          "name": "stdout",
          "text": [
            "Mode is: 6\n"
          ]
        }
      ]
    },
    {
      "cell_type": "code",
      "source": [
        "\n",
        "# Create function that returns probability percent rounded to one decimal place\n",
        "def event_probability(event_outcomes, sample_space):\n",
        "    probability = (event_outcomes / sample_space) * 100\n",
        "    return round(probability, 1)\n",
        "\n",
        "# Sample Space\n",
        "numbers = 20\n",
        "\n",
        "# Determine the probability of three\n",
        "three = 3\n",
        "three_probability = event_probability(three, numbers)\n",
        "\n",
        "# Determine the probability of two_and_three\n",
        "two_and_three  = 6\n",
        "two_and_three_probability = event_probability(two_and_three, numbers)\n",
        "\n",
        "# Determine the probability of odd_numbers\n",
        "odd_numbers = 6\n",
        "odd_numbers_probability = event_probability(odd_numbers, numbers)\n",
        "\n",
        "# Determine the probability of even_numbers\n",
        "even_numbers = 14\n",
        "even_numbers_probability = event_probability(even_numbers, numbers)\n",
        "\n",
        "# Print each probability\n",
        "print(\"Probability of three is \",str(three_probability) + '%')\n",
        "print(\"Probability of two and three is \",str(two_and_three_probability) + '%')\n",
        "print(\"Probability of odd numbers is \",str(odd_numbers_probability) + '%')\n",
        "print(\"Probability of even numbers is \",str(even_numbers_probability) + '%')"
      ],
      "metadata": {
        "colab": {
          "base_uri": "https://localhost:8080/"
        },
        "id": "ciBmceQ2NN73",
        "outputId": "33929059-2b67-4e8a-dc4e-7e7cb40bb204"
      },
      "execution_count": null,
      "outputs": [
        {
          "output_type": "stream",
          "name": "stdout",
          "text": [
            "Probability of three is  15.0%\n",
            "Probability of two and three is  30.0%\n",
            "Probability of odd numbers is  30.0%\n",
            "Probability of even numbers is  70.0%\n"
          ]
        }
      ]
    }
  ]
}